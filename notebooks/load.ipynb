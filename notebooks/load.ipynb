{
 "cells": [
  {
   "cell_type": "code",
   "execution_count": 49,
   "metadata": {},
   "outputs": [],
   "source": [
    "import pandas_gbq\n",
    "import pandas as pd\n",
    "from google.cloud import bigquery"
   ]
  },
  {
   "cell_type": "code",
   "execution_count": null,
   "metadata": {},
   "outputs": [],
   "source": [
    "def load_bway_data(df,proj_id,dest_table):\n",
    "    # first remove the season/wk data that exists in dest_table in order to not insert duplicated data for the week\n",
    "    remove_season_weeks_if_exist(df,proj_id,dest_table)\n",
    "\n",
    "    # now load df to dest_table\n",
    "    load_to_gbq(df,proj_id,dest_table)"
   ]
  },
  {
   "cell_type": "code",
   "execution_count": 51,
   "metadata": {},
   "outputs": [],
   "source": [
    "def load_to_gbq(df,proj_id,dest_table):\n",
    "    # load df to dest_table    \n",
    "    pandas_gbq.to_gbq(dataframe=df, project_id=proj_id, destination_table = dest_table,if_exists='append')"
   ]
  },
  {
   "cell_type": "code",
   "execution_count": 52,
   "metadata": {},
   "outputs": [],
   "source": [
    "def remove_season_weeks_if_exist(df,proj_id,dest_table):\n",
    "    # first remove any season/week_num that exist in df from dest_table\n",
    "    #   - we don't want to upload duplicate data for the same week\n",
    "    df_season_wks = df[['season', 'week_num']].drop_duplicates()\n",
    "\n",
    "    condition = ''\n",
    "\n",
    "    # build the query condition for which rows need to be removed from dest_table\n",
    "    for index,row in df_season_wks.iterrows():\n",
    "        if index!=0:\n",
    "            condition += \"or \"\n",
    "        condition += f'''(season='{row['season']}' and week_num={row['week_num']})\\n'''\n",
    "\n",
    "    qry = f'''\n",
    "        CREATE OR REPLACE TABLE {proj_id}.{dest_table} AS\n",
    "        SELECT *\n",
    "        from {proj_id}.{dest_table}\n",
    "        where not ( {condition} )\n",
    "    '''\n",
    "\n",
    "    # set up the client\n",
    "    client = bigquery.Client()\n",
    "\n",
    "    # Run the query to remove dest_table rows and get the result\n",
    "    query_job = client.query(qry)\n",
    "    return query_job.result()"
   ]
  }
 ],
 "metadata": {
  "kernelspec": {
   "display_name": "base",
   "language": "python",
   "name": "python3"
  },
  "language_info": {
   "codemirror_mode": {
    "name": "ipython",
    "version": 3
   },
   "file_extension": ".py",
   "mimetype": "text/x-python",
   "name": "python",
   "nbconvert_exporter": "python",
   "pygments_lexer": "ipython3",
   "version": "3.9.13"
  },
  "orig_nbformat": 4
 },
 "nbformat": 4,
 "nbformat_minor": 2
}
