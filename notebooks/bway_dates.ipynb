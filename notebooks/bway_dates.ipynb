{
 "cells": [
  {
   "cell_type": "code",
   "execution_count": null,
   "metadata": {},
   "outputs": [],
   "source": [
    "import pandas as pd\n",
    "from datetime import datetime, timedelta\n",
    "import os\n",
    "import sys"
   ]
  },
  {
   "cell_type": "code",
   "execution_count": null,
   "metadata": {},
   "outputs": [],
   "source": [
    "def generate_week_data():\n",
    "    tdelta_begin_wk = timedelta(days = -6)\n",
    "    tdelta_next_week_end_date = timedelta(days = 7)\n",
    "\n",
    "    season_weeks = [\n",
    "        ['2017-18',datetime(2017,5, 28),0,53],\n",
    "        ['2018-19',datetime(2018,6, 3),0,52],\n",
    "        ['2019-20',datetime(2019,6, 2),0,41],\n",
    "        ['2020-21',datetime(2020,6, 1),-1,52],\n",
    "        ['2021-22',datetime(2021,5, 30),10,52],\n",
    "        ['2022-23',datetime(2022,5, 29),0,52]\n",
    "    ]\n",
    "\n",
    "    week_df_columns = ['season','week_num','wk_start_date','week_end_date']\n",
    "    week_data = []\n",
    "\n",
    "    for row in season_weeks:\n",
    "        season = row[0]\n",
    "        season_start_date_we = row[1]\n",
    "        num_weeks_offset = row[2]\n",
    "        week_end_date = season_start_date_we + timedelta(days=7*num_weeks_offset)\n",
    "        num_weeks = row[3]\n",
    "\n",
    "        if not(season == '2020-21'): #exclude the 2020-21 season because of Pandemic\n",
    "            \n",
    "            for i in range(num_weeks_offset+1,num_weeks+1):\n",
    "                week_start_date = week_end_date + tdelta_begin_wk\n",
    "                \n",
    "                week_data.append([season,i,week_start_date,week_end_date])\n",
    "    \n",
    "                week_end_date += tdelta_next_week_end_date\n",
    "            \n",
    "    df_week_data = pd.DataFrame(week_data,columns=week_df_columns)\n",
    "\n",
    "    return df_week_data"
   ]
  },
  {
   "cell_type": "code",
   "execution_count": null,
   "metadata": {},
   "outputs": [],
   "source": [
    "def get_most_recent_week():\n",
    "    current_datetime = datetime.now()\n",
    "    df_week_data = generate_week_data()\n",
    "    df_week_data['current_datetime'] = current_datetime\n",
    "    df_week_data['time_diff'] = (df_week_data['current_datetime'] - df_week_data['week_end_date'])\n",
    "    df_week_data_filtered = df_week_data[df_week_data['time_diff'] > timedelta(0)]\n",
    "    df_week_data_filtered.sort_values(by='time_diff',ascending=True).drop(columns=['time_diff'],inplace=True)\n",
    "    return df_week_data_filtered"
   ]
  },
  {
   "cell_type": "code",
   "execution_count": null,
   "metadata": {},
   "outputs": [],
   "source": [
    "def get_historical_weeks_from_range(season_start,week_start,season_end,week_end):\n",
    "    df = generate_week_data()\n",
    "    index_start = df.loc[(df['season'] == season_start) & (df['week_num'] == week_start)].index[0]\n",
    "    index_end = df.loc[(df['season'] == season_end) & (df['week_num'] == week_end)].index[0]\n",
    "    df_week_data_filtered =  df[index_start:index_end+1]\n",
    "    return df_week_data_filtered"
   ]
  }
 ],
 "metadata": {
  "language_info": {
   "name": "python"
  },
  "orig_nbformat": 4
 },
 "nbformat": 4,
 "nbformat_minor": 2
}
